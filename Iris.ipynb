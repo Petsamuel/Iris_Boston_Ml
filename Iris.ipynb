{
 "cells": [
  {
   "cell_type": "code",
   "execution_count": null,
   "metadata": {
    "vscode": {
     "languageId": "plaintext"
    }
   },
   "outputs": [],
   "source": [
    "import pandas as pd\n",
    "from sklearn.model_selection import train_test_split\n",
    "from sklearn.linear_model import LogisticRegression\n",
    "from sklearn.impute import SimpleImputer\n",
    "from sklearn.metrics import accuracy_score\n",
    "import joblib"
   ]
  },
  {
   "cell_type": "code",
   "execution_count": null,
   "metadata": {
    "vscode": {
     "languageId": "plaintext"
    }
   },
   "outputs": [],
   "source": [
    "try:\n",
    "    dataset = pd.read_csv(\"Iris.csv\", encoding='latin1')\n",
    "except:\n",
    "    print(\"can't find data\")\n",
    "    exit()\n",
    "\n",
    "# check for missing values\n",
    "missing_values = dataset.isnull().sum()\n",
    "\n",
    "if(missing_values.any()):\n",
    "    # Handle missing values \n",
    "    inputer = SimpleImputer(strategy='mean')\n",
    "    dataset_inputer = pd.DataFrame(inputer.fit_transform(dataset), columns=dataset.columns)\n",
    "    print(dataset_inputer.head())\n",
    "else:\n",
    "    print(\"No missing values\")\n",
    "    dataset_inputer = dataset"
   ]
  },
  {
   "cell_type": "code",
   "execution_count": null,
   "metadata": {
    "vscode": {
     "languageId": "plaintext"
    }
   },
   "outputs": [],
   "source": [
    "X_features = dataset_inputer[['SepalLengthCm', 'SepalWidthCm', 'PetalLengthCm', 'PetalWidthCm']]\n",
    "y_target = dataset_inputer['Species']"
   ]
  },
  {
   "cell_type": "code",
   "execution_count": null,
   "metadata": {
    "vscode": {
     "languageId": "plaintext"
    }
   },
   "outputs": [],
   "source": [
    "# Split the data into training and testing sets\n",
    "X_train, X_test, y_train, y_test = train_test_split(X_features, y_target, test_size=0.2, random_state=42)\n",
    "\n",
    "#train the model\n",
    "model = LogisticRegression(max_iter=200)\n",
    "model.fit(X_train, y_train)\n",
    "\n",
    "# Make predictions\n",
    "y_pred = model.predict(X_test)\n",
    "x_pred = model.predict(X_train)\n",
    "\n",
    "# Calculate accuracy\n",
    "test_accuracy = accuracy_score(y_test, y_pred)\n",
    "train_accuracy = accuracy_score(y_train, x_pred)\n",
    "\n",
    "# save the model\n",
    "joblib.dump(model, 'Iris_prediction.pkl')\n",
    "\n",
    "#-------------------------\n",
    "# 4. Display Results\n",
    "#-------------------------\n",
    "\n",
    "print(\"------------ Iris ---------------\\n\")\n",
    "\n",
    "print(f\"Test Accuracy: {test_accuracy}\")\n",
    "print(f\"Train Accuracy: {train_accuracy}\")\n",
    "\n",
    "\n",
    "# Test using save model\n",
    "loaded_model = joblib.load('Iris_prediction.pkl')\n",
    "\n",
    "# create input data\n",
    "input_data = pd.DataFrame({\n",
    "    'SepalLengthCm': [5.1],\n",
    "    'SepalWidthCm': [3.5],\n",
    "    'PetalLengthCm': [1.4],\n",
    "    'PetalWidthCm': [0.2]\n",
    "})\n",
    "\n",
    "print(\"\\n\\n----------PREDICTION BASED ON USER INPUT----------\\n\")\n",
    "predicted_result = loaded_model.predict(input_data)\n",
    "print(f\"users input:  {input_data.to_dict( orient='records')}\")\n",
    "print(f\"Predicted Result:  {predicted_result}\")\n"
   ]
  }
 ],
 "metadata": {
  "language_info": {
   "name": "python"
  }
 },
 "nbformat": 4,
 "nbformat_minor": 2
}
