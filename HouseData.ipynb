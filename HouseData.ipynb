{
 "cells": [
  {
   "cell_type": "code",
   "execution_count": null,
   "metadata": {
    "vscode": {
     "languageId": "plaintext"
    }
   },
   "outputs": [],
   "source": [
    "import pandas as pd\n",
    "from sklearn.impute import SimpleImputer\n",
    "from sklearn.linear_model import LinearRegression\n",
    "from sklearn.model_selection import train_test_split\n",
    "from sklearn.metrics import mean_squared_error, r2_score\n",
    "import matplotlib.pyplot as plt\n",
    "import seaborn as sns\n",
    "import joblib"
   ]
  },
  {
   "cell_type": "markdown",
   "metadata": {},
   "source": [
    "# ------------------------\n",
    "# 1. Load and preprocess the Dataset\n",
    "# ------------------------"
   ]
  },
  {
   "cell_type": "code",
   "execution_count": null,
   "metadata": {
    "vscode": {
     "languageId": "plaintext"
    }
   },
   "outputs": [],
   "source": [
    "try:\n",
    "    dataset = pd.read_csv(\"HousingData.csv\", encoding='latin1')\n",
    "except:\n",
    "    print(\"cant find data\")\n",
    "    exit()"
   ]
  },
  {
   "cell_type": "code",
   "execution_count": null,
   "metadata": {
    "vscode": {
     "languageId": "plaintext"
    }
   },
   "outputs": [],
   "source": [
    "# -Check for missing values\n",
    "missing_values = dataset.isnull().sum()\n",
    "\n",
    "if(missing_values.any()):\n",
    "    # -Handle missing values \n",
    "    inputer = SimpleImputer(strategy='mean')\n",
    "    dataset_inputer = pd.DataFrame(inputer.fit_transform(dataset), columns=dataset.columns)\n",
    "else :\n",
    "    print(\"No missing values\")"
   ]
  },
  {
   "cell_type": "markdown",
   "metadata": {},
   "source": [
    "# -------------------------------\n",
    "# 2. Define Target Variables and Features\n",
    "# ------------------------------"
   ]
  },
  {
   "cell_type": "code",
   "execution_count": null,
   "metadata": {
    "vscode": {
     "languageId": "plaintext"
    }
   },
   "outputs": [],
   "source": [
    "# selecting features and target variables\n",
    "X_features = dataset_inputer[[ 'RM', 'LSTAT']]\n",
    "y_target = dataset_inputer['MEDV']\n",
    "\n",
    "# -------------------------------\n",
    "# 3. Train and Compare Models\n",
    "# ------------------------------\n",
    "\n",
    "# Split data\n",
    "X_train, X_test, y_train, y_test = train_test_split(X_features, y_target, test_size=0.2, random_state=42)\n",
    "\n",
    "\n",
    "# Train the Model\n",
    "model = LinearRegression()\n",
    "model.fit(X_train, y_train)\n",
    "\n",
    "\n",
    "# Predict on test set\n",
    "prediction = model.predict(X_test)\n",
    "\n",
    "# Predict on training set\n",
    "yprediction = model.predict(X_train)\n",
    "\n",
    "# Evaluate the Model on test set\n",
    "test_score = model.score(X_test, y_test)\n",
    "test_mse = mean_squared_error(y_test, prediction)"
   ]
  }
 ],
 "metadata": {
  "language_info": {
   "name": "python"
  }
 },
 "nbformat": 4,
 "nbformat_minor": 2
}
